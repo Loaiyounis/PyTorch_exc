{
  "nbformat": 4,
  "nbformat_minor": 0,
  "metadata": {
    "colab": {
      "provenance": [],
      "gpuType": "T4",
      "authorship_tag": "ABX9TyOGroH54HxR6E6FQRDkDVD3",
      "include_colab_link": true
    },
    "kernelspec": {
      "name": "python3",
      "display_name": "Python 3"
    },
    "language_info": {
      "name": "python"
    },
    "accelerator": "GPU"
  },
  "cells": [
    {
      "cell_type": "markdown",
      "metadata": {
        "id": "view-in-github",
        "colab_type": "text"
      },
      "source": [
        "<a href=\"https://colab.research.google.com/github/Loaiyounis/PyTorch_exc/blob/main/oo_pytorch_fundamentals_video.ipynb\" target=\"_parent\"><img src=\"https://colab.research.google.com/assets/colab-badge.svg\" alt=\"Open In Colab\"/></a>"
      ]
    },
    {
      "cell_type": "code",
      "source": [
        "print(\"hello from colab\")"
      ],
      "metadata": {
        "colab": {
          "base_uri": "https://localhost:8080/"
        },
        "id": "YbqP0VLCOjLO",
        "outputId": "7ba4fe99-03d3-49e0-c2b6-149c6c4c5ac9"
      },
      "execution_count": 1,
      "outputs": [
        {
          "output_type": "stream",
          "name": "stdout",
          "text": [
            "hello from colab\n"
          ]
        }
      ]
    },
    {
      "cell_type": "code",
      "execution_count": 2,
      "metadata": {
        "colab": {
          "base_uri": "https://localhost:8080/"
        },
        "id": "KAvMLqkEOQ2K",
        "outputId": "16f1dfe0-68ce-46ac-b558-3832e8f20e0a"
      },
      "outputs": [
        {
          "output_type": "stream",
          "name": "stdout",
          "text": [
            "Tue Oct  8 16:21:20 2024       \n",
            "+---------------------------------------------------------------------------------------+\n",
            "| NVIDIA-SMI 535.104.05             Driver Version: 535.104.05   CUDA Version: 12.2     |\n",
            "|-----------------------------------------+----------------------+----------------------+\n",
            "| GPU  Name                 Persistence-M | Bus-Id        Disp.A | Volatile Uncorr. ECC |\n",
            "| Fan  Temp   Perf          Pwr:Usage/Cap |         Memory-Usage | GPU-Util  Compute M. |\n",
            "|                                         |                      |               MIG M. |\n",
            "|=========================================+======================+======================|\n",
            "|   0  Tesla T4                       Off | 00000000:00:04.0 Off |                    0 |\n",
            "| N/A   41C    P8               9W /  70W |      0MiB / 15360MiB |      0%      Default |\n",
            "|                                         |                      |                  N/A |\n",
            "+-----------------------------------------+----------------------+----------------------+\n",
            "                                                                                         \n",
            "+---------------------------------------------------------------------------------------+\n",
            "| Processes:                                                                            |\n",
            "|  GPU   GI   CI        PID   Type   Process name                            GPU Memory |\n",
            "|        ID   ID                                                             Usage      |\n",
            "|=======================================================================================|\n",
            "|  No running processes found                                                           |\n",
            "+---------------------------------------------------------------------------------------+\n"
          ]
        }
      ],
      "source": [
        "!nvidia-smi"
      ]
    },
    {
      "cell_type": "markdown",
      "source": [
        "##oo.PyTorch Fundamentals\n",
        "\n",
        "Resource: notebook: https://www.learnpytorch.io/00_pytorch_fundamentals/\n",
        "\n",
        "If you have a question:https://github.com/mrdbourke/pytorch-deep-learning/discussions"
      ],
      "metadata": {
        "id": "ePsotGMoPH8U"
      }
    },
    {
      "cell_type": "code",
      "source": [
        "import torch\n",
        "import pandas as pd\n",
        "import numpy as np\n",
        "import matplotlib.pyplot as plt\n",
        "print(torch.__version__)"
      ],
      "metadata": {
        "colab": {
          "base_uri": "https://localhost:8080/"
        },
        "id": "pCxBDhAWQqD7",
        "outputId": "358f5dd2-ae5b-4b27-e2ec-b806ff8f6b5f"
      },
      "execution_count": 3,
      "outputs": [
        {
          "output_type": "stream",
          "name": "stdout",
          "text": [
            "2.4.1+cu121\n"
          ]
        }
      ]
    },
    {
      "cell_type": "markdown",
      "source": [
        "## Introduction to tensors\n",
        "\n",
        "### Creating tensors\n",
        "\n",
        "Pytorch tensors are created using torch.tensor()` =https://pytorch.org/docs/stable/tensors.html"
      ],
      "metadata": {
        "id": "AcqUThOZTWuM"
      }
    },
    {
      "cell_type": "code",
      "source": [
        "# scalar\n",
        "scalar = torch.tensor(7)\n",
        "scalar"
      ],
      "metadata": {
        "colab": {
          "base_uri": "https://localhost:8080/"
        },
        "id": "JxjqbEtQTujq",
        "outputId": "0f3e6262-0075-4dea-954c-ecb462660e9f"
      },
      "execution_count": 4,
      "outputs": [
        {
          "output_type": "execute_result",
          "data": {
            "text/plain": [
              "tensor(7)"
            ]
          },
          "metadata": {},
          "execution_count": 4
        }
      ]
    },
    {
      "cell_type": "code",
      "source": [
        "scalar.ndim"
      ],
      "metadata": {
        "colab": {
          "base_uri": "https://localhost:8080/"
        },
        "id": "v6HJTzIST93X",
        "outputId": "433c28a6-65bf-40bf-d4c6-e121bb89f4e3"
      },
      "execution_count": 5,
      "outputs": [
        {
          "output_type": "execute_result",
          "data": {
            "text/plain": [
              "0"
            ]
          },
          "metadata": {},
          "execution_count": 5
        }
      ]
    },
    {
      "cell_type": "code",
      "source": [
        "# Get tensor back as Python int\n",
        "scalar.item()"
      ],
      "metadata": {
        "colab": {
          "base_uri": "https://localhost:8080/"
        },
        "id": "_Wx7igT-VSWh",
        "outputId": "d8d44b91-2b04-41f1-9603-d41b8a4a2842"
      },
      "execution_count": 6,
      "outputs": [
        {
          "output_type": "execute_result",
          "data": {
            "text/plain": [
              "7"
            ]
          },
          "metadata": {},
          "execution_count": 6
        }
      ]
    },
    {
      "cell_type": "code",
      "source": [
        "# Vector\n",
        "vector=torch.tensor([7,7])\n",
        "vector"
      ],
      "metadata": {
        "colab": {
          "base_uri": "https://localhost:8080/"
        },
        "id": "kXWkEw9sVdF7",
        "outputId": "d8152c6f-73b9-43f6-dfdd-d5de8a7fb2bc"
      },
      "execution_count": 7,
      "outputs": [
        {
          "output_type": "execute_result",
          "data": {
            "text/plain": [
              "tensor([7, 7])"
            ]
          },
          "metadata": {},
          "execution_count": 7
        }
      ]
    },
    {
      "cell_type": "code",
      "source": [
        "vector.ndim"
      ],
      "metadata": {
        "colab": {
          "base_uri": "https://localhost:8080/"
        },
        "id": "6IamOQSSVr39",
        "outputId": "10d8e7d8-5961-4c04-ef02-ff5ac50d1927"
      },
      "execution_count": 8,
      "outputs": [
        {
          "output_type": "execute_result",
          "data": {
            "text/plain": [
              "1"
            ]
          },
          "metadata": {},
          "execution_count": 8
        }
      ]
    },
    {
      "cell_type": "code",
      "source": [
        "vector.shape"
      ],
      "metadata": {
        "colab": {
          "base_uri": "https://localhost:8080/"
        },
        "id": "RPOV6gM9V5Mp",
        "outputId": "1d2bc811-ca93-406b-d885-2515d9c01f14"
      },
      "execution_count": 9,
      "outputs": [
        {
          "output_type": "execute_result",
          "data": {
            "text/plain": [
              "torch.Size([2])"
            ]
          },
          "metadata": {},
          "execution_count": 9
        }
      ]
    },
    {
      "cell_type": "code",
      "source": [
        "# Matrix\n",
        "Matrix=torch.tensor([[7,8],[9,10]])\n",
        "Matrix"
      ],
      "metadata": {
        "colab": {
          "base_uri": "https://localhost:8080/"
        },
        "id": "K6bNeRK_WAtm",
        "outputId": "3a6a4ad3-1c99-411d-dd8e-cf187c224e87"
      },
      "execution_count": 10,
      "outputs": [
        {
          "output_type": "execute_result",
          "data": {
            "text/plain": [
              "tensor([[ 7,  8],\n",
              "        [ 9, 10]])"
            ]
          },
          "metadata": {},
          "execution_count": 10
        }
      ]
    },
    {
      "cell_type": "code",
      "source": [
        "Matrix.ndim"
      ],
      "metadata": {
        "colab": {
          "base_uri": "https://localhost:8080/"
        },
        "id": "MAzD5DNJWdWe",
        "outputId": "0756d773-fae4-49a0-b52d-d25df7fe606f"
      },
      "execution_count": 11,
      "outputs": [
        {
          "output_type": "execute_result",
          "data": {
            "text/plain": [
              "2"
            ]
          },
          "metadata": {},
          "execution_count": 11
        }
      ]
    },
    {
      "cell_type": "code",
      "source": [
        "Matrix[0]"
      ],
      "metadata": {
        "colab": {
          "base_uri": "https://localhost:8080/"
        },
        "id": "ibMDRrCaWmV0",
        "outputId": "6ad3bdc1-472d-4648-c759-74a3b21d03f4"
      },
      "execution_count": 12,
      "outputs": [
        {
          "output_type": "execute_result",
          "data": {
            "text/plain": [
              "tensor([7, 8])"
            ]
          },
          "metadata": {},
          "execution_count": 12
        }
      ]
    },
    {
      "cell_type": "code",
      "source": [
        "Matrix[1]"
      ],
      "metadata": {
        "colab": {
          "base_uri": "https://localhost:8080/"
        },
        "id": "yHb5RcDiWpeT",
        "outputId": "b200081e-bc0d-44ce-853a-b560db616f20"
      },
      "execution_count": 13,
      "outputs": [
        {
          "output_type": "execute_result",
          "data": {
            "text/plain": [
              "tensor([ 9, 10])"
            ]
          },
          "metadata": {},
          "execution_count": 13
        }
      ]
    },
    {
      "cell_type": "code",
      "source": [
        "Matrix.shape"
      ],
      "metadata": {
        "colab": {
          "base_uri": "https://localhost:8080/"
        },
        "id": "eFn2jKO3Wycz",
        "outputId": "f24c2e56-28e5-46a9-cf82-994d299c67fb"
      },
      "execution_count": 14,
      "outputs": [
        {
          "output_type": "execute_result",
          "data": {
            "text/plain": [
              "torch.Size([2, 2])"
            ]
          },
          "metadata": {},
          "execution_count": 14
        }
      ]
    },
    {
      "cell_type": "code",
      "source": [
        "# TENSOR\n",
        "TENSOR=torch.tensor([[[1,2,3],\n",
        "                     [3,6,9],\n",
        "                     [2,4,6]]])\n",
        "TENSOR\n"
      ],
      "metadata": {
        "colab": {
          "base_uri": "https://localhost:8080/"
        },
        "id": "N8X04-X4W4lf",
        "outputId": "464c5bc3-bbfa-4f6d-e418-222d391a8bde"
      },
      "execution_count": 15,
      "outputs": [
        {
          "output_type": "execute_result",
          "data": {
            "text/plain": [
              "tensor([[[1, 2, 3],\n",
              "         [3, 6, 9],\n",
              "         [2, 4, 6]]])"
            ]
          },
          "metadata": {},
          "execution_count": 15
        }
      ]
    },
    {
      "cell_type": "code",
      "source": [
        "TENSOR.ndim"
      ],
      "metadata": {
        "colab": {
          "base_uri": "https://localhost:8080/"
        },
        "id": "LzvpYWaYXZ_O",
        "outputId": "bc13db32-a07e-4d03-e2f0-7137ec6b23f8"
      },
      "execution_count": 16,
      "outputs": [
        {
          "output_type": "execute_result",
          "data": {
            "text/plain": [
              "3"
            ]
          },
          "metadata": {},
          "execution_count": 16
        }
      ]
    },
    {
      "cell_type": "code",
      "source": [
        "TENSOR.shape"
      ],
      "metadata": {
        "colab": {
          "base_uri": "https://localhost:8080/"
        },
        "id": "c8lFkpuIXh6C",
        "outputId": "2c1f1140-f9ad-4328-d909-5a18b9b03db5"
      },
      "execution_count": 17,
      "outputs": [
        {
          "output_type": "execute_result",
          "data": {
            "text/plain": [
              "torch.Size([1, 3, 3])"
            ]
          },
          "metadata": {},
          "execution_count": 17
        }
      ]
    },
    {
      "cell_type": "code",
      "source": [
        "TENSOR[0]"
      ],
      "metadata": {
        "colab": {
          "base_uri": "https://localhost:8080/"
        },
        "id": "KaCrlMCiXq6y",
        "outputId": "84e00b41-d433-4c51-9878-5667167482b1"
      },
      "execution_count": 18,
      "outputs": [
        {
          "output_type": "execute_result",
          "data": {
            "text/plain": [
              "tensor([[1, 2, 3],\n",
              "        [3, 6, 9],\n",
              "        [2, 4, 6]])"
            ]
          },
          "metadata": {},
          "execution_count": 18
        }
      ]
    },
    {
      "cell_type": "code",
      "source": [
        "lo=torch.tensor([[[[1,5,9,4],\n",
        "                            [4,2,5,8]],\n",
        "                  [[4,3,5,7],\n",
        "                             [4,4,5,6]],\n",
        "                  [[4,1,5,9],\n",
        "                            [4,2,5,8]],\n",
        "                  [[4,3,5,7],\n",
        "                            [4,4,5,6]]]])\n",
        "lo"
      ],
      "metadata": {
        "colab": {
          "base_uri": "https://localhost:8080/"
        },
        "id": "yA-8acVtXyz5",
        "outputId": "823236b9-7713-45f6-f6f9-bffedbf5813e"
      },
      "execution_count": 19,
      "outputs": [
        {
          "output_type": "execute_result",
          "data": {
            "text/plain": [
              "tensor([[[[1, 5, 9, 4],\n",
              "          [4, 2, 5, 8]],\n",
              "\n",
              "         [[4, 3, 5, 7],\n",
              "          [4, 4, 5, 6]],\n",
              "\n",
              "         [[4, 1, 5, 9],\n",
              "          [4, 2, 5, 8]],\n",
              "\n",
              "         [[4, 3, 5, 7],\n",
              "          [4, 4, 5, 6]]]])"
            ]
          },
          "metadata": {},
          "execution_count": 19
        }
      ]
    },
    {
      "cell_type": "code",
      "source": [
        "lo.shape"
      ],
      "metadata": {
        "colab": {
          "base_uri": "https://localhost:8080/"
        },
        "id": "cUxzSfhrbjxX",
        "outputId": "45b29a3a-78cd-433a-d6f9-3c86bbe11269"
      },
      "execution_count": 20,
      "outputs": [
        {
          "output_type": "execute_result",
          "data": {
            "text/plain": [
              "torch.Size([1, 4, 2, 4])"
            ]
          },
          "metadata": {},
          "execution_count": 20
        }
      ]
    },
    {
      "cell_type": "code",
      "source": [
        "lo[0]"
      ],
      "metadata": {
        "colab": {
          "base_uri": "https://localhost:8080/"
        },
        "id": "2NEOhCDsbnHa",
        "outputId": "56cd0109-777e-41c3-f358-357d40d4448e"
      },
      "execution_count": 21,
      "outputs": [
        {
          "output_type": "execute_result",
          "data": {
            "text/plain": [
              "tensor([[[1, 5, 9, 4],\n",
              "         [4, 2, 5, 8]],\n",
              "\n",
              "        [[4, 3, 5, 7],\n",
              "         [4, 4, 5, 6]],\n",
              "\n",
              "        [[4, 1, 5, 9],\n",
              "         [4, 2, 5, 8]],\n",
              "\n",
              "        [[4, 3, 5, 7],\n",
              "         [4, 4, 5, 6]]])"
            ]
          },
          "metadata": {},
          "execution_count": 21
        }
      ]
    },
    {
      "cell_type": "code",
      "source": [
        "lo.ndim"
      ],
      "metadata": {
        "colab": {
          "base_uri": "https://localhost:8080/"
        },
        "id": "KjEHEKK4bqTa",
        "outputId": "b5a91656-147f-4062-ee47-542e765334b6"
      },
      "execution_count": 22,
      "outputs": [
        {
          "output_type": "execute_result",
          "data": {
            "text/plain": [
              "4"
            ]
          },
          "metadata": {},
          "execution_count": 22
        }
      ]
    },
    {
      "cell_type": "markdown",
      "source": [
        "### Random  tensors\n",
        "Why random tensors\n",
        "Random tensors are important bacause the way many neural networks learn is that they start with tensors full of random mumbers and then adjust those random number to bettwe represnt data.\n",
        "\n",
        "`Start with random nubers -> look at data -> update random numbers -> look at data -> update random numbers`\n",
        "Torch random tensors =https://pytorch.org/docs/stable/generated/torch.rand.html\n",
        "\n"
      ],
      "metadata": {
        "id": "yT0y-0UlcO3s"
      }
    },
    {
      "cell_type": "code",
      "source": [
        "# Create a random tensor of size(3,4)\n",
        "random_tensor=torch.rand(3,4)\n",
        "random_tensor"
      ],
      "metadata": {
        "colab": {
          "base_uri": "https://localhost:8080/"
        },
        "id": "X37y65MOccU8",
        "outputId": "af7b2d5e-087a-4ef4-e890-83a755f920d1"
      },
      "execution_count": 23,
      "outputs": [
        {
          "output_type": "execute_result",
          "data": {
            "text/plain": [
              "tensor([[0.9654, 0.8332, 0.3814, 0.3433],\n",
              "        [0.9215, 0.5081, 0.5226, 0.6374],\n",
              "        [0.2137, 0.0529, 0.6222, 0.3070]])"
            ]
          },
          "metadata": {},
          "execution_count": 23
        }
      ]
    },
    {
      "cell_type": "code",
      "source": [
        "random_tensor.shape"
      ],
      "metadata": {
        "colab": {
          "base_uri": "https://localhost:8080/"
        },
        "id": "ySecJsXueAGh",
        "outputId": "0ce8f42b-f36f-43e6-e03b-340bd2004fb8"
      },
      "execution_count": 24,
      "outputs": [
        {
          "output_type": "execute_result",
          "data": {
            "text/plain": [
              "torch.Size([3, 4])"
            ]
          },
          "metadata": {},
          "execution_count": 24
        }
      ]
    },
    {
      "cell_type": "code",
      "source": [
        "random_tensor.ndim"
      ],
      "metadata": {
        "colab": {
          "base_uri": "https://localhost:8080/"
        },
        "id": "sek2JHwweF5G",
        "outputId": "7c6df66d-d396-48a8-c5af-3898386b3b74"
      },
      "execution_count": 25,
      "outputs": [
        {
          "output_type": "execute_result",
          "data": {
            "text/plain": [
              "2"
            ]
          },
          "metadata": {},
          "execution_count": 25
        }
      ]
    },
    {
      "cell_type": "code",
      "source": [
        "#Create random tensor with similar shape to an image tensor\n",
        "random_image_size_tensor=torch.rand(size=(3,224,224)) #Hight, Width, channels(R,G,B)\n",
        "random_image_size_tensor.shape,random_image_size_tensor.ndim\n"
      ],
      "metadata": {
        "colab": {
          "base_uri": "https://localhost:8080/"
        },
        "id": "e53_TZBLeoSO",
        "outputId": "9013f5f5-3e30-4586-ff93-8eaf06013913"
      },
      "execution_count": 26,
      "outputs": [
        {
          "output_type": "execute_result",
          "data": {
            "text/plain": [
              "(torch.Size([3, 224, 224]), 3)"
            ]
          },
          "metadata": {},
          "execution_count": 26
        }
      ]
    },
    {
      "cell_type": "markdown",
      "source": [
        "### Zeroes and ones"
      ],
      "metadata": {
        "id": "NdqO9QHLjCsB"
      }
    },
    {
      "cell_type": "code",
      "source": [
        "#Create a tensor of all zeroes\n",
        "zeros=torch.zeros(size=(3,4))\n",
        "zeros"
      ],
      "metadata": {
        "colab": {
          "base_uri": "https://localhost:8080/"
        },
        "id": "IVrdl5PijIz-",
        "outputId": "e029cada-8f37-442a-8563-c441ec1691b2"
      },
      "execution_count": 27,
      "outputs": [
        {
          "output_type": "execute_result",
          "data": {
            "text/plain": [
              "tensor([[0., 0., 0., 0.],\n",
              "        [0., 0., 0., 0.],\n",
              "        [0., 0., 0., 0.]])"
            ]
          },
          "metadata": {},
          "execution_count": 27
        }
      ]
    },
    {
      "cell_type": "code",
      "source": [
        "zeros*random_tensor"
      ],
      "metadata": {
        "colab": {
          "base_uri": "https://localhost:8080/"
        },
        "id": "WO5Wu_bTjirT",
        "outputId": "25e19634-6ed7-4930-87a5-256bf7b50b4c"
      },
      "execution_count": 28,
      "outputs": [
        {
          "output_type": "execute_result",
          "data": {
            "text/plain": [
              "tensor([[0., 0., 0., 0.],\n",
              "        [0., 0., 0., 0.],\n",
              "        [0., 0., 0., 0.]])"
            ]
          },
          "metadata": {},
          "execution_count": 28
        }
      ]
    },
    {
      "cell_type": "markdown",
      "source": [
        "# Create a tensor of all ones"
      ],
      "metadata": {
        "id": "qHSe-2d-jsP0"
      }
    },
    {
      "cell_type": "code",
      "source": [
        "ones=torch.ones(size=(3,4))\n",
        "ones"
      ],
      "metadata": {
        "colab": {
          "base_uri": "https://localhost:8080/"
        },
        "id": "iAMDhwJejy81",
        "outputId": "b2774de3-bb7d-468e-9271-4920a1b5d691"
      },
      "execution_count": 29,
      "outputs": [
        {
          "output_type": "execute_result",
          "data": {
            "text/plain": [
              "tensor([[1., 1., 1., 1.],\n",
              "        [1., 1., 1., 1.],\n",
              "        [1., 1., 1., 1.]])"
            ]
          },
          "metadata": {},
          "execution_count": 29
        }
      ]
    },
    {
      "cell_type": "code",
      "source": [
        "ones.dtype"
      ],
      "metadata": {
        "colab": {
          "base_uri": "https://localhost:8080/"
        },
        "id": "s5oGyIW4j69x",
        "outputId": "ef49601d-2904-4a19-8fe8-2433a9bdebc7"
      },
      "execution_count": 30,
      "outputs": [
        {
          "output_type": "execute_result",
          "data": {
            "text/plain": [
              "torch.float32"
            ]
          },
          "metadata": {},
          "execution_count": 30
        }
      ]
    },
    {
      "cell_type": "code",
      "source": [
        "random_tensor.dtype"
      ],
      "metadata": {
        "colab": {
          "base_uri": "https://localhost:8080/"
        },
        "id": "a44gQli8j-4s",
        "outputId": "fdc74b06-c4b4-4585-f8e1-2977e8400c30"
      },
      "execution_count": 31,
      "outputs": [
        {
          "output_type": "execute_result",
          "data": {
            "text/plain": [
              "torch.float32"
            ]
          },
          "metadata": {},
          "execution_count": 31
        }
      ]
    },
    {
      "cell_type": "markdown",
      "source": [
        "### Create a range on tensors and tensors-like"
      ],
      "metadata": {
        "id": "edC1H7apkD5a"
      }
    },
    {
      "cell_type": "code",
      "source": [
        "# Use torch.range() and get depracated message, use tourch.range()\n",
        "one_to_ten=torch.arange(start=1,end=11,step=1)\n",
        "one_to_ten"
      ],
      "metadata": {
        "colab": {
          "base_uri": "https://localhost:8080/"
        },
        "id": "w3E61OWhkdnw",
        "outputId": "cd2c87f9-b4fd-44aa-aa7b-d71a3f1e04ee"
      },
      "execution_count": 32,
      "outputs": [
        {
          "output_type": "execute_result",
          "data": {
            "text/plain": [
              "tensor([ 1,  2,  3,  4,  5,  6,  7,  8,  9, 10])"
            ]
          },
          "metadata": {},
          "execution_count": 32
        }
      ]
    },
    {
      "cell_type": "code",
      "source": [
        "torch.__version__"
      ],
      "metadata": {
        "colab": {
          "base_uri": "https://localhost:8080/",
          "height": 35
        },
        "id": "XCicBPgjkqHd",
        "outputId": "ba91c935-9b3d-44eb-b033-fbb2b0d6a55f"
      },
      "execution_count": 33,
      "outputs": [
        {
          "output_type": "execute_result",
          "data": {
            "text/plain": [
              "'2.4.1+cu121'"
            ],
            "application/vnd.google.colaboratory.intrinsic+json": {
              "type": "string"
            }
          },
          "metadata": {},
          "execution_count": 33
        }
      ]
    },
    {
      "cell_type": "code",
      "source": [
        "#Crating tensors-like\n",
        "ten_zeros=torch.zeros_like(input=one_to_ten)\n",
        "ten_zeros"
      ],
      "metadata": {
        "colab": {
          "base_uri": "https://localhost:8080/"
        },
        "id": "mpqL4eS9lMe9",
        "outputId": "45c1e49b-a0df-45f6-e22e-a57fd94676ad"
      },
      "execution_count": 34,
      "outputs": [
        {
          "output_type": "execute_result",
          "data": {
            "text/plain": [
              "tensor([0, 0, 0, 0, 0, 0, 0, 0, 0, 0])"
            ]
          },
          "metadata": {},
          "execution_count": 34
        }
      ]
    },
    {
      "cell_type": "code",
      "source": [
        "me=torch.rand(2,2)\n",
        "me"
      ],
      "metadata": {
        "colab": {
          "base_uri": "https://localhost:8080/"
        },
        "id": "DrmfTBSYlj1n",
        "outputId": "9f349ac5-4127-4412-c3c7-fd8a7c7b42c1"
      },
      "execution_count": 35,
      "outputs": [
        {
          "output_type": "execute_result",
          "data": {
            "text/plain": [
              "tensor([[0.6594, 0.1898],\n",
              "        [0.3781, 0.3792]])"
            ]
          },
          "metadata": {},
          "execution_count": 35
        }
      ]
    },
    {
      "cell_type": "code",
      "source": [
        "me_like=torch.zeros_like(input=me)\n",
        "me_like"
      ],
      "metadata": {
        "colab": {
          "base_uri": "https://localhost:8080/"
        },
        "id": "j-kjgOJumiEa",
        "outputId": "fd9333b2-5dbe-47fd-b6b6-6cc75d538afc"
      },
      "execution_count": 36,
      "outputs": [
        {
          "output_type": "execute_result",
          "data": {
            "text/plain": [
              "tensor([[0., 0.],\n",
              "        [0., 0.]])"
            ]
          },
          "metadata": {},
          "execution_count": 36
        }
      ]
    },
    {
      "cell_type": "markdown",
      "source": [
        "###  Tensor datatype\n",
        "**Note:** Tensor datatypes is one the 2 big errors you'll run into with Python & deep learning:\n",
        "1. Tensors not right datatype\n",
        "2. Tensors not right shape\n",
        "3. Tensors not on the right device\n",
        "\n",
        "Precesion in computing - https://en.wikipedia.org/wiki/Single-precision_floating-point_format"
      ],
      "metadata": {
        "id": "fIdMxrHDmzeC"
      }
    },
    {
      "cell_type": "code",
      "source": [
        "#Float 32 Tensor\n",
        "float_32_tensor=torch.tensor([3.0,6.0,9.0],\n",
        "                             dtype=None, # What type is the tensoe (e,g, float32 or float16)\n",
        "                             device=None, # What device your tensor in\n",
        "                             requires_grad=False) #Wheather or not to track gradients with thie tensor operations\n",
        "float_32_tensor"
      ],
      "metadata": {
        "colab": {
          "base_uri": "https://localhost:8080/"
        },
        "id": "FuRPMC-hi61r",
        "outputId": "089c45a6-a553-426c-85d8-2d7368fdaa92"
      },
      "execution_count": 37,
      "outputs": [
        {
          "output_type": "execute_result",
          "data": {
            "text/plain": [
              "tensor([3., 6., 9.])"
            ]
          },
          "metadata": {},
          "execution_count": 37
        }
      ]
    },
    {
      "cell_type": "code",
      "source": [
        "float_32_tensor.dtype"
      ],
      "metadata": {
        "colab": {
          "base_uri": "https://localhost:8080/"
        },
        "id": "Pzsp2jVijQsI",
        "outputId": "883cd8fd-2e49-40bd-ddf6-b0fb92ed0656"
      },
      "execution_count": 38,
      "outputs": [
        {
          "output_type": "execute_result",
          "data": {
            "text/plain": [
              "torch.float32"
            ]
          },
          "metadata": {},
          "execution_count": 38
        }
      ]
    },
    {
      "cell_type": "code",
      "source": [
        "float_16_tensor=float_32_tensor.type(torch.float16)\n",
        "float_16_tensor\n"
      ],
      "metadata": {
        "colab": {
          "base_uri": "https://localhost:8080/"
        },
        "id": "J_6zPxhZpQjr",
        "outputId": "7cb94758-797e-4b0d-b0eb-fc4c56200000"
      },
      "execution_count": 39,
      "outputs": [
        {
          "output_type": "execute_result",
          "data": {
            "text/plain": [
              "tensor([3., 6., 9.], dtype=torch.float16)"
            ]
          },
          "metadata": {},
          "execution_count": 39
        }
      ]
    },
    {
      "cell_type": "code",
      "source": [
        "float_16_tensor * float_32_tensor"
      ],
      "metadata": {
        "colab": {
          "base_uri": "https://localhost:8080/"
        },
        "id": "krJaNAhmpq7Y",
        "outputId": "9fb1f434-6658-4457-d558-cef254b9e9fd"
      },
      "execution_count": 40,
      "outputs": [
        {
          "output_type": "execute_result",
          "data": {
            "text/plain": [
              "tensor([ 9., 36., 81.])"
            ]
          },
          "metadata": {},
          "execution_count": 40
        }
      ]
    },
    {
      "cell_type": "code",
      "source": [
        "int_32_tensor=torch.tensor([3,6,9],dtype=torch.long)\n",
        "int_32_tensor"
      ],
      "metadata": {
        "colab": {
          "base_uri": "https://localhost:8080/"
        },
        "id": "arfwO0bmrlk4",
        "outputId": "bec06447-ffde-4f90-a416-38870a5d5b88"
      },
      "execution_count": 41,
      "outputs": [
        {
          "output_type": "execute_result",
          "data": {
            "text/plain": [
              "tensor([3, 6, 9])"
            ]
          },
          "metadata": {},
          "execution_count": 41
        }
      ]
    },
    {
      "cell_type": "code",
      "source": [
        "float_32_tensor * int_32_tensor"
      ],
      "metadata": {
        "colab": {
          "base_uri": "https://localhost:8080/"
        },
        "id": "InZGaz3GyTcc",
        "outputId": "a04b5011-71d3-418f-cf22-f5ae862edf15"
      },
      "execution_count": 42,
      "outputs": [
        {
          "output_type": "execute_result",
          "data": {
            "text/plain": [
              "tensor([ 9., 36., 81.])"
            ]
          },
          "metadata": {},
          "execution_count": 42
        }
      ]
    },
    {
      "cell_type": "markdown",
      "source": [
        "### gitting informations frm tensors (tensor attributes)\n",
        "\n",
        "1. Tensors not right datatype - to get datatype from a tensor, can use `tensro.dtype`\n",
        "2. Tensors not right shape - to get shape from a tensor, can use `tensro.shape`\n",
        "3. Tensors not on the right device - to get device from a tensor, can use `tensro.devoce`\n"
      ],
      "metadata": {
        "id": "qk4vRtZ1yzs8"
      }
    },
    {
      "cell_type": "code",
      "source": [
        "### Create a tensor\n",
        "some_tensor=torch.rand(3,4)\n",
        "some_tensor"
      ],
      "metadata": {
        "colab": {
          "base_uri": "https://localhost:8080/"
        },
        "id": "PduBPOfJzXfu",
        "outputId": "2f05343f-3627-4adc-f650-127f7164702a"
      },
      "execution_count": 43,
      "outputs": [
        {
          "output_type": "execute_result",
          "data": {
            "text/plain": [
              "tensor([[0.0503, 0.2786, 0.1744, 0.8424],\n",
              "        [0.0993, 0.7292, 0.2900, 0.8987],\n",
              "        [0.6865, 0.8495, 0.6837, 0.3158]])"
            ]
          },
          "metadata": {},
          "execution_count": 43
        }
      ]
    },
    {
      "cell_type": "code",
      "source": [
        "# Find out details about sone tensor\n",
        "print(some_tensor)\n",
        "print(f\"Datatype of tensor: {some_tensor.dtype}\")\n",
        "print(f\"Shape of tensor: {some_tensor.shape}\")\n",
        "print(f\"Device tensor is on : {some_tensor.device}\")"
      ],
      "metadata": {
        "colab": {
          "base_uri": "https://localhost:8080/"
        },
        "id": "KVmE63lOzp8O",
        "outputId": "056c0e0d-e472-46d4-d957-bae3553f6b48"
      },
      "execution_count": 44,
      "outputs": [
        {
          "output_type": "stream",
          "name": "stdout",
          "text": [
            "tensor([[0.0503, 0.2786, 0.1744, 0.8424],\n",
            "        [0.0993, 0.7292, 0.2900, 0.8987],\n",
            "        [0.6865, 0.8495, 0.6837, 0.3158]])\n",
            "Datatype of tensor: torch.float32\n",
            "Shape of tensor: torch.Size([3, 4])\n",
            "Device tensor is on : cpu\n"
          ]
        }
      ]
    },
    {
      "cell_type": "code",
      "source": [
        "mu_tensor=torch.tensor([4,4,5],dtype=torch.float64)\n",
        "print(some_tensor)\n",
        "print(f\"Datatype of tensor: {mu_tensor.dtype}\")\n",
        "print(f\"Shape of tensor: {mu_tensor.shape}\")\n",
        "print(f\"Device tensor is on : {mu_tensor.device}\")"
      ],
      "metadata": {
        "colab": {
          "base_uri": "https://localhost:8080/"
        },
        "id": "fZV6Jk_v2QlH",
        "outputId": "1f8af9ce-1b4e-4243-d029-680636ce2506"
      },
      "execution_count": 45,
      "outputs": [
        {
          "output_type": "stream",
          "name": "stdout",
          "text": [
            "tensor([[0.0503, 0.2786, 0.1744, 0.8424],\n",
            "        [0.0993, 0.7292, 0.2900, 0.8987],\n",
            "        [0.6865, 0.8495, 0.6837, 0.3158]])\n",
            "Datatype of tensor: torch.float64\n",
            "Shape of tensor: torch.Size([3])\n",
            "Device tensor is on : cpu\n"
          ]
        }
      ]
    },
    {
      "cell_type": "markdown",
      "source": [
        "from __future__ import division\n",
        "## Manipulating Tensors (tensor operations)\n",
        "\n",
        "Tensor operations include:\n",
        "* Addition\n",
        "* Substraction\n",
        "* Multipilcation(element-wise)\n",
        "* Division\n",
        "* Matrix multiplication"
      ],
      "metadata": {
        "id": "TfvwTNpo7h9E"
      }
    },
    {
      "cell_type": "code",
      "source": [
        "# Create a tensor and add 10 to it\n",
        "tensor=torch.tensor([1,2,3])\n",
        "tensor + 10"
      ],
      "metadata": {
        "colab": {
          "base_uri": "https://localhost:8080/"
        },
        "id": "tINrdwk380N4",
        "outputId": "49bde223-a53c-4dd3-e7b6-6d1deb2cb91e"
      },
      "execution_count": 46,
      "outputs": [
        {
          "output_type": "execute_result",
          "data": {
            "text/plain": [
              "tensor([11, 12, 13])"
            ]
          },
          "metadata": {},
          "execution_count": 46
        }
      ]
    },
    {
      "cell_type": "code",
      "source": [
        "# Multuply tensor by 10\n",
        "tensor * 10"
      ],
      "metadata": {
        "colab": {
          "base_uri": "https://localhost:8080/"
        },
        "id": "IcifyC3E897r",
        "outputId": "d2e620c1-e218-4ed4-dabf-10826a425f5e"
      },
      "execution_count": 47,
      "outputs": [
        {
          "output_type": "execute_result",
          "data": {
            "text/plain": [
              "tensor([10, 20, 30])"
            ]
          },
          "metadata": {},
          "execution_count": 47
        }
      ]
    },
    {
      "cell_type": "code",
      "source": [
        "tensor"
      ],
      "metadata": {
        "id": "_ksljg9H9K80",
        "colab": {
          "base_uri": "https://localhost:8080/"
        },
        "outputId": "3d2c9050-18dc-4706-8e2d-dd1f52f4a0c0"
      },
      "execution_count": 48,
      "outputs": [
        {
          "output_type": "execute_result",
          "data": {
            "text/plain": [
              "tensor([1, 2, 3])"
            ]
          },
          "metadata": {},
          "execution_count": 48
        }
      ]
    },
    {
      "cell_type": "code",
      "source": [
        "#Substract 10\n",
        "tensor -10"
      ],
      "metadata": {
        "colab": {
          "base_uri": "https://localhost:8080/"
        },
        "id": "l-Wx3NBc-d7X",
        "outputId": "8aff976b-149c-4c08-d005-0b7ebb332761"
      },
      "execution_count": 49,
      "outputs": [
        {
          "output_type": "execute_result",
          "data": {
            "text/plain": [
              "tensor([-9, -8, -7])"
            ]
          },
          "metadata": {},
          "execution_count": 49
        }
      ]
    },
    {
      "cell_type": "code",
      "source": [
        "# Try out  PyTorch in-built functions\n",
        "torch.mul(tensor,10)"
      ],
      "metadata": {
        "colab": {
          "base_uri": "https://localhost:8080/"
        },
        "id": "gNYDf5Mf-lOO",
        "outputId": "229317da-ac49-40a0-8215-a62ab3c13b57"
      },
      "execution_count": 50,
      "outputs": [
        {
          "output_type": "execute_result",
          "data": {
            "text/plain": [
              "tensor([10, 20, 30])"
            ]
          },
          "metadata": {},
          "execution_count": 50
        }
      ]
    },
    {
      "cell_type": "code",
      "source": [
        "torch.add(tensor,10)"
      ],
      "metadata": {
        "colab": {
          "base_uri": "https://localhost:8080/"
        },
        "id": "sULCqD-b-6xM",
        "outputId": "17e184ed-4a1d-410b-e84f-ad824209e986"
      },
      "execution_count": 51,
      "outputs": [
        {
          "output_type": "execute_result",
          "data": {
            "text/plain": [
              "tensor([11, 12, 13])"
            ]
          },
          "metadata": {},
          "execution_count": 51
        }
      ]
    },
    {
      "cell_type": "markdown",
      "source": [
        "### Matrix multiplication\n",
        "\n",
        "Two main ways of performing multiplication in nueral networks and deep learning:\n",
        "\n",
        "1. Element-wise multiplication\n",
        "2. Matrix multiplication (dot product)\n",
        "\n",
        "More information on multiplying matrices - https://www.mathsisfun.com/algebra/matrix-multiplying.html\n",
        "\n",
        "There are two main rules the performing matrix multiplication needs to satisfy:\n",
        "1. The  **inner dimensions** must match:\n",
        "* `(3,2) @ (3,2)` won't work\n",
        "* `(2,3) @ (3,2)` will work\n",
        "* `(3,2) @ (2,3)` will work\n",
        "\n",
        "2. The resulting matrix has the shape of the **outer dimension*\n",
        "\n",
        "* `(2,3) @ (3,2)`-> `(2,2)`\n",
        "* `(3,2) @ (2,3)` -> `(3,3)`"
      ],
      "metadata": {
        "id": "C70wdwih_Apf"
      }
    },
    {
      "cell_type": "code",
      "source": [
        "torch.matmul(torch.rand(10,10),torch.rand(10,10))"
      ],
      "metadata": {
        "colab": {
          "base_uri": "https://localhost:8080/"
        },
        "id": "pyYANOQ8P7gF",
        "outputId": "bc136a9e-d9e3-48fe-c030-1f4b9255cc75"
      },
      "execution_count": 52,
      "outputs": [
        {
          "output_type": "execute_result",
          "data": {
            "text/plain": [
              "tensor([[2.9691, 2.0463, 1.3976, 1.9225, 2.4289, 1.5419, 2.6694, 2.2727, 3.0887,\n",
              "         2.1257],\n",
              "        [2.4937, 2.1796, 1.4587, 2.0889, 2.4337, 1.6516, 2.1505, 2.0132, 2.6320,\n",
              "         1.9420],\n",
              "        [3.8093, 2.8683, 2.5780, 2.6096, 2.9341, 2.1943, 2.7185, 3.3547, 3.7850,\n",
              "         2.7983],\n",
              "        [3.4375, 2.5078, 2.6728, 2.6300, 3.6235, 1.8711, 2.0913, 3.1049, 4.3213,\n",
              "         3.4409],\n",
              "        [4.3803, 3.2609, 3.1215, 3.0014, 3.9775, 2.8495, 3.5011, 3.9299, 4.1053,\n",
              "         3.4590],\n",
              "        [4.0533, 2.9752, 2.7005, 2.6814, 4.0383, 2.2529, 3.2424, 3.5602, 3.7683,\n",
              "         3.3053],\n",
              "        [2.8606, 1.8097, 2.1174, 2.2914, 2.7817, 2.0777, 2.2717, 3.1140, 2.8765,\n",
              "         2.5189],\n",
              "        [3.2883, 2.5403, 2.1627, 2.1853, 2.7642, 1.7866, 2.4596, 3.2337, 3.9761,\n",
              "         2.7374],\n",
              "        [2.6627, 1.8785, 1.9553, 2.0988, 2.6966, 1.6555, 1.6736, 2.2322, 2.6609,\n",
              "         2.3324],\n",
              "        [2.5553, 1.7305, 1.7671, 2.1430, 2.8957, 1.6501, 1.9443, 1.9058, 3.1931,\n",
              "         2.4849]])"
            ]
          },
          "metadata": {},
          "execution_count": 52
        }
      ]
    },
    {
      "cell_type": "code",
      "source": [
        "# Elenet-wise multiplication\n",
        "print(tensor ,\"*\", tensor)\n",
        "print(f\"Equals: {tensor * tensor}\")"
      ],
      "metadata": {
        "colab": {
          "base_uri": "https://localhost:8080/"
        },
        "id": "B_YlWOo-AOK7",
        "outputId": "7f02b1a0-4f19-4c87-9f8c-dfad6153145c"
      },
      "execution_count": 53,
      "outputs": [
        {
          "output_type": "stream",
          "name": "stdout",
          "text": [
            "tensor([1, 2, 3]) * tensor([1, 2, 3])\n",
            "Equals: tensor([1, 4, 9])\n"
          ]
        }
      ]
    },
    {
      "cell_type": "code",
      "source": [
        "# Matrix multiplication\n",
        "torch.matmul(tensor, tensor)"
      ],
      "metadata": {
        "colab": {
          "base_uri": "https://localhost:8080/"
        },
        "id": "oB2v8OaqAWQi",
        "outputId": "c24fb44d-856b-4319-a33c-dea839d1bf62"
      },
      "execution_count": 54,
      "outputs": [
        {
          "output_type": "execute_result",
          "data": {
            "text/plain": [
              "tensor(14)"
            ]
          },
          "metadata": {},
          "execution_count": 54
        }
      ]
    },
    {
      "cell_type": "code",
      "source": [
        "#Matrix multiplication by hand\n",
        "1*1 + 2*2+3*3"
      ],
      "metadata": {
        "colab": {
          "base_uri": "https://localhost:8080/"
        },
        "id": "p0L4Cm1EA4aU",
        "outputId": "f3885908-29bb-455c-9bab-cd320be5972a"
      },
      "execution_count": 55,
      "outputs": [
        {
          "output_type": "execute_result",
          "data": {
            "text/plain": [
              "14"
            ]
          },
          "metadata": {},
          "execution_count": 55
        }
      ]
    },
    {
      "cell_type": "code",
      "source": [
        "%%time\n",
        "value=0\n",
        "for i in range (len(tensor)):\n",
        "  value+= tensor[i] * tensor[i]\n",
        "print(value)"
      ],
      "metadata": {
        "colab": {
          "base_uri": "https://localhost:8080/"
        },
        "id": "2lgae9XrBDPG",
        "outputId": "e7df97af-0db1-4cee-8d9e-da834d4594a1"
      },
      "execution_count": 56,
      "outputs": [
        {
          "output_type": "stream",
          "name": "stdout",
          "text": [
            "tensor(14)\n",
            "CPU times: user 484 µs, sys: 86 µs, total: 570 µs\n",
            "Wall time: 2.92 ms\n"
          ]
        }
      ]
    },
    {
      "cell_type": "code",
      "source": [
        "%%time\n",
        "torch.matmul(tensor,tensor)"
      ],
      "metadata": {
        "colab": {
          "base_uri": "https://localhost:8080/"
        },
        "id": "z19wL7mZBfz1",
        "outputId": "19dd5c43-5d28-4428-c890-3e9bbb47aa5b"
      },
      "execution_count": 57,
      "outputs": [
        {
          "output_type": "stream",
          "name": "stdout",
          "text": [
            "CPU times: user 31 µs, sys: 6 µs, total: 37 µs\n",
            "Wall time: 40.8 µs\n"
          ]
        },
        {
          "output_type": "execute_result",
          "data": {
            "text/plain": [
              "tensor(14)"
            ]
          },
          "metadata": {},
          "execution_count": 57
        }
      ]
    },
    {
      "cell_type": "markdown",
      "source": [
        "### One of the most common errors in deep learning: shape errors"
      ],
      "metadata": {
        "id": "QRCw-sbBO6Ft"
      }
    },
    {
      "cell_type": "code",
      "source": [
        "#Shapes fir multiplication\n",
        "tensor_A=torch.tensor([[1,2],\n",
        "                        [3,4],\n",
        "                        [5,6]])\n",
        "tensor_B= torch.tensor([[7,10],\n",
        "                        [8,11],\n",
        "                        [9,12]])\n",
        "#tensot.mm(tensor_A,tensor_B)  torch.mm is the same as torch.matmul (it's an alias for writing less code)\n",
        "torch.matmul(tensor_A,tensor_B)"
      ],
      "metadata": {
        "colab": {
          "base_uri": "https://localhost:8080/",
          "height": 176
        },
        "id": "k81xRBesRIFL",
        "outputId": "4053aa01-024a-4246-c8c6-e0ce23a9fb6c"
      },
      "execution_count": 58,
      "outputs": [
        {
          "output_type": "error",
          "ename": "RuntimeError",
          "evalue": "mat1 and mat2 shapes cannot be multiplied (3x2 and 3x2)",
          "traceback": [
            "\u001b[0;31m---------------------------------------------------------------------------\u001b[0m",
            "\u001b[0;31mRuntimeError\u001b[0m                              Traceback (most recent call last)",
            "\u001b[0;32m<ipython-input-58-aa36b73d55ac>\u001b[0m in \u001b[0;36m<cell line: 9>\u001b[0;34m()\u001b[0m\n\u001b[1;32m      7\u001b[0m                         [9,12]])\n\u001b[1;32m      8\u001b[0m \u001b[0;31m#tensot.mm(tensor_A,tensor_B)  torch.mm is the same as torch.matmul (it's an alias for writing less code)\u001b[0m\u001b[0;34m\u001b[0m\u001b[0;34m\u001b[0m\u001b[0m\n\u001b[0;32m----> 9\u001b[0;31m \u001b[0mtorch\u001b[0m\u001b[0;34m.\u001b[0m\u001b[0mmatmul\u001b[0m\u001b[0;34m(\u001b[0m\u001b[0mtensor_A\u001b[0m\u001b[0;34m,\u001b[0m\u001b[0mtensor_B\u001b[0m\u001b[0;34m)\u001b[0m\u001b[0;34m\u001b[0m\u001b[0;34m\u001b[0m\u001b[0m\n\u001b[0m",
            "\u001b[0;31mRuntimeError\u001b[0m: mat1 and mat2 shapes cannot be multiplied (3x2 and 3x2)"
          ]
        }
      ]
    },
    {
      "cell_type": "code",
      "source": [
        "tensor_A.shape, tensor_B.shape"
      ],
      "metadata": {
        "id": "Wq5cpjz2Tbxr"
      },
      "execution_count": null,
      "outputs": []
    },
    {
      "cell_type": "markdown",
      "source": [
        "To fix our shape issues, we can manipulate the shape of ones of our tensors using **transpose**\n",
        "\n",
        "A ** transpose** switched axes or dimensions of a given tensor"
      ],
      "metadata": {
        "id": "dkQ3sOWgTneZ"
      }
    },
    {
      "cell_type": "code",
      "source": [
        "tensor_B,tensor_B.shape"
      ],
      "metadata": {
        "id": "LE_PTfuOUHQr"
      },
      "execution_count": null,
      "outputs": []
    },
    {
      "cell_type": "code",
      "source": [
        "tensor_B.T,tensor_B.T.shape"
      ],
      "metadata": {
        "id": "KEfstX0JUVdE"
      },
      "execution_count": null,
      "outputs": []
    },
    {
      "cell_type": "code",
      "source": [
        "# The matrix Multiplication operation works when tensor_B is tranposed\n",
        "print(f\" Original shapes: Tensor_A= {tensor_A.shape} tensor_B - {tensor_B.shape}\")\n",
        "print(f\"New shapes: tensor_A: {tensor_A.shape} (same shape) as above), tensor_B.T= {tensor_B.T.shape}\")\n",
        "print(f\"Multiplinh: {tensor_A.shape} @ {tensor_B.T.shape} <- inner dimensions must match\")\n",
        "print(\"Output:\\n\")\n",
        "output=torch.matmul(tensor_A,tensor_B.T)\n",
        "print(output)\n",
        "print(f\"\\nOutput shape: {output.shape}\")"
      ],
      "metadata": {
        "id": "kJvfX8AmUj4g"
      },
      "execution_count": null,
      "outputs": []
    },
    {
      "cell_type": "markdown",
      "source": [
        "## Finding the min, max, mean, sum, etc (tensor aggregation)"
      ],
      "metadata": {
        "id": "icMiZma4WzYU"
      }
    },
    {
      "cell_type": "code",
      "source": [
        "# Create a tensor\n",
        "x= torch.arange(0,100,10)\n",
        "x"
      ],
      "metadata": {
        "colab": {
          "base_uri": "https://localhost:8080/"
        },
        "id": "A5ICSCwOcxJb",
        "outputId": "f730aba8-b6ec-49a3-d3e9-54ef520f5b0e"
      },
      "execution_count": 59,
      "outputs": [
        {
          "output_type": "execute_result",
          "data": {
            "text/plain": [
              "tensor([ 0, 10, 20, 30, 40, 50, 60, 70, 80, 90])"
            ]
          },
          "metadata": {},
          "execution_count": 59
        }
      ]
    },
    {
      "cell_type": "code",
      "source": [
        "# Find the min\n",
        "torch.min(x), x.min()"
      ],
      "metadata": {
        "colab": {
          "base_uri": "https://localhost:8080/"
        },
        "id": "h8wNGmCvdFRC",
        "outputId": "f9ac90ea-77eb-4f6f-8e79-7231a4645d57"
      },
      "execution_count": 60,
      "outputs": [
        {
          "output_type": "execute_result",
          "data": {
            "text/plain": [
              "(tensor(0), tensor(0))"
            ]
          },
          "metadata": {},
          "execution_count": 60
        }
      ]
    },
    {
      "cell_type": "code",
      "source": [
        "# Find the max\n",
        "torch.max(x), x.max()"
      ],
      "metadata": {
        "colab": {
          "base_uri": "https://localhost:8080/"
        },
        "id": "sC3MHXHQdLG5",
        "outputId": "4c423f3c-82c0-415c-b3b8-2b5cf346d398"
      },
      "execution_count": 61,
      "outputs": [
        {
          "output_type": "execute_result",
          "data": {
            "text/plain": [
              "(tensor(90), tensor(90))"
            ]
          },
          "metadata": {},
          "execution_count": 61
        }
      ]
    }
  ]
}